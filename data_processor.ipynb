{
 "cells": [
  {
   "cell_type": "code",
   "execution_count": 2,
   "metadata": {},
   "outputs": [],
   "source": [
    "import os\n",
    "import numpy as np\n",
    "import re\n",
    "import cv2\n",
    "from scipy.io import wavfile\n",
    "import matplotlib.pyplot as plt\n",
    "from scipy import signal\n",
    "import librosa.display"
   ]
  },
  {
   "cell_type": "code",
   "execution_count": 3,
   "metadata": {
    "scrolled": true
   },
   "outputs": [
    {
     "name": "stdout",
     "output_type": "stream",
     "text": [
      "977\n"
     ]
    }
   ],
   "source": [
    "# read all files\n",
    "fnames = os.listdir('vis-data')\n",
    "suffixes = ['_times.txt', '_denoised_thumb.mp4', '_mic.mp4', '_mic.wav', '_denoised.mp4', '_denoised.wav']\n",
    "ids = set()\n",
    "for name in fnames:\n",
    "    for suffix in suffixes:\n",
    "        idx = name.find(suffix)\n",
    "        if idx == -1:\n",
    "            continue\n",
    "        prefix = name[:idx]\n",
    "        ids.add(prefix)\n",
    "print(len(ids))\n",
    "ids = list(ids)"
   ]
  },
  {
   "cell_type": "code",
   "execution_count": 4,
   "metadata": {},
   "outputs": [],
   "source": [
    "def parse_classes(name, idx):\n",
    "    elems = set()\n",
    "    with open(f'vis-data/{name}', 'r') as f:\n",
    "        lines = f.readlines()\n",
    "    for line in lines:\n",
    "        words = re.split(' |\\n', line)\n",
    "        if len(words) < idx+1:\n",
    "            continue\n",
    "        if words[idx] == 'None':\n",
    "            continue\n",
    "        elems.add(words[idx])\n",
    "    return list(elems)"
   ]
  },
  {
   "cell_type": "code",
   "execution_count": 5,
   "metadata": {},
   "outputs": [
    {
     "name": "stdout",
     "output_type": "stream",
     "text": [
      "materials:\n",
      "{'carpet': 0, '': 1, 'drywall': 2, 'glass': 3, 'grass': 4, 'rock': 5, 'plastic-bag': 6, 'cloth': 7, 'paper': 8, 'dirt': 9, 'leaf': 10, 'wood': 11, 'plastic': 12, 'metal': 13, 'gravel': 14, 'ceramic': 15, 'tile': 16, 'water': 17}\n",
      "reactions:\n",
      "{'rigid-motion': 0, 'splash': 1, 'static': 2, 'deform': 3, 'scatter': 4}\n"
     ]
    }
   ],
   "source": [
    "all_materials = set()\n",
    "for name in fnames:\n",
    "    if name.find('.txt') == -1:\n",
    "        continue\n",
    "    elems = parse_classes(name, 1)\n",
    "    all_materials.update(elems)\n",
    "\n",
    "all_materials = list(all_materials)\n",
    "materials_log = {}\n",
    "for i, cat in enumerate(all_materials):\n",
    "    materials_log[cat] = i\n",
    "print('materials:')\n",
    "print(materials_log)\n",
    "\n",
    "\n",
    "\n",
    "all_reactions = set()\n",
    "for name in fnames:\n",
    "    if name.find('.txt') == -1:\n",
    "        continue\n",
    "    elems = parse_classes(name, 3)\n",
    "    all_reactions.update(elems)\n",
    "\n",
    "all_reactions = list(all_reactions)\n",
    "reactions_log = {}\n",
    "for i, cat in enumerate(all_reactions):\n",
    "    reactions_log[cat] = i\n",
    "print('reactions:')\n",
    "print(reactions_log)"
   ]
  },
  {
   "cell_type": "code",
   "execution_count": 6,
   "metadata": {},
   "outputs": [],
   "source": [
    "def process_image(fname):\n",
    "    # given a mp4, take and return the first image from it\n",
    "    vidcap = cv2.VideoCapture(f'vis-data/{fname}_denoised_thumb.mp4')\n",
    "    _, image = vidcap.read()\n",
    "    cv2.imwrite(f'vis-data-simple/{fname}/{fname}_image.png', image)\n",
    "\n",
    "def process_hits(fname):\n",
    "    x , sr = librosa.load(f'vis-data/{fname}_denoised.wav')\n",
    "    with open(f'vis-data/{fname}_times.txt', 'r') as f:\n",
    "        lines = f.readlines()\n",
    "    i = 0\n",
    "    for line in lines:\n",
    "        words = re.split(' |\\n', line)\n",
    "        if 'None' in words:\n",
    "            continue\n",
    "        t = float(words[0])\n",
    "        material_id = materials_log[words[1]]\n",
    "        hit_id = 1*(words[2] == 'scratch') #hit = 0, scratch = 1\n",
    "        reaction_id = reactions_log[words[3]]\n",
    "        with open(f'vis-data-simple/{fname}/{fname}_labels_{i}.txt', 'w') as f:\n",
    "            f.write(str(material_id)+'\\n')\n",
    "            f.write(str(hit_id)+'\\n')\n",
    "            f.write(str(reaction_id))\n",
    "        \n",
    "        dt = 0.5\n",
    "        subset = x[int(sr*(t - dt)):int(sr*(t+dt))]\n",
    "        X = librosa.stft(subset)\n",
    "        Xdb = librosa.amplitude_to_db(abs(X))\n",
    "        fig = plt.figure(figsize=(5, 5))\n",
    "        librosa.display.specshow(Xdb, sr=sr, cmap='gray')\n",
    "        fig.savefig(f'vis-data-simple/{fname}/{fname}_spec_{i}.png')\n",
    "        plt.close()\n",
    "        i += 1\n",
    "    with open(f'vis-data-simple/{fname}/{fname}_metadata.txt', 'w') as f:\n",
    "        f.write(str(i))"
   ]
  },
  {
   "cell_type": "code",
   "execution_count": null,
   "metadata": {},
   "outputs": [],
   "source": []
  },
  {
   "cell_type": "code",
   "execution_count": 76,
   "metadata": {},
   "outputs": [],
   "source": [
    "for data_id in ids:\n",
    "    process_video(id)\n",
    "    process_txt(id)"
   ]
  },
  {
   "cell_type": "code",
   "execution_count": null,
   "metadata": {},
   "outputs": [],
   "source": []
  },
  {
   "cell_type": "code",
   "execution_count": null,
   "metadata": {},
   "outputs": [],
   "source": []
  },
  {
   "cell_type": "code",
   "execution_count": null,
   "metadata": {},
   "outputs": [],
   "source": []
  },
  {
   "cell_type": "code",
   "execution_count": 8,
   "metadata": {},
   "outputs": [
    {
     "data": {
      "text/plain": [
       "[<matplotlib.lines.Line2D at 0x7f80de425190>]"
      ]
     },
     "execution_count": 8,
     "metadata": {},
     "output_type": "execute_result"
    },
    {
     "data": {
      "image/png": "[encoded data removed]",
      "text/plain": [
       "<Figure size 432x288 with 1 Axes>"
      ]
     },
     "metadata": {
      "needs_background": "light"
     },
     "output_type": "display_data"
    }
   ],
   "source": [
    "avg_samples = []\n",
    "interval = 20\n",
    "for i in range(len(samples)//interval):\n",
    "    avg_samples.append(sum(samples[i*interval:(i+1)*interval])/interval)\n",
    "plt.plot(avg_samples)"
   ]
  },
  {
   "cell_type": "code",
   "execution_count": null,
   "metadata": {},
   "outputs": [],
   "source": []
  },
  {
   "cell_type": "code",
   "execution_count": 56,
   "metadata": {},
   "outputs": [],
   "source": [
    "x , sr = librosa.load('vis-data/2015-02-16-16-49-06_denoised.wav')"
   ]
  },
  {
   "cell_type": "code",
   "execution_count": 64,
   "metadata": {},
   "outputs": [
    {
     "data": {
      "text/plain": [
       "<matplotlib.collections.QuadMesh at 0x7f80b34093d0>"
      ]
     },
     "execution_count": 64,
     "metadata": {},
     "output_type": "execute_result"
    },
    {
     "data": {
      "image/png": "[encoded data removed]",
      "text/plain": [
       "<Figure size 360x360 with 1 Axes>"
      ]
     },
     "metadata": {},
     "output_type": "display_data"
    }
   ],
   "source": [
    "\n",
    "offset = 2\n",
    "#subset = x[int(sr*(offset)):int(sr*(offset+10))]\n",
    "dt = 0.5\n",
    "subset = x[int(sr*(t - dt)):int(sr*(t+dt))]\n",
    "\n",
    "\n",
    "X = librosa.stft(subset)\n",
    "Xdb = librosa.amplitude_to_db(abs(X))\n",
    "plt.figure(figsize=(5, 5))\n",
    "librosa.display.specshow(Xdb, sr=sr, cmap='gray')\n",
    "#plt.colorbar()"
   ]
  },
  {
   "cell_type": "code",
   "execution_count": 49,
   "metadata": {},
   "outputs": [],
   "source": [
    "line_lens = []\n",
    "for fname in ids:\n",
    "    with open(f'vis-data/{fname}_times.txt', 'r') as f:\n",
    "        lines = f.readlines()\n",
    "        line_lens.append(len(lines))"
   ]
  },
  {
   "cell_type": "code",
   "execution_count": 51,
   "metadata": {},
   "outputs": [
    {
     "data": {
      "text/plain": [
       "47.67349027635619"
      ]
     },
     "execution_count": 51,
     "metadata": {},
     "output_type": "execute_result"
    }
   ],
   "source": [
    "sum(line_lens)/len(line_lens)"
   ]
  },
  {
   "cell_type": "code",
   "execution_count": 60,
   "metadata": {},
   "outputs": [
    {
     "data": {
      "text/plain": [
       "22050"
      ]
     },
     "execution_count": 60,
     "metadata": {},
     "output_type": "execute_result"
    }
   ],
   "source": [
    "len(subset)"
   ]
  },
  {
   "cell_type": "code",
   "execution_count": 7,
   "metadata": {},
   "outputs": [
    {
     "name": "stdout",
     "output_type": "stream",
     "text": [
      "processed 39 images\n",
      "processed 79 images\n",
      "processed 119 images\n",
      "processed 159 images\n",
      "processed 199 images\n",
      "processed 239 images\n",
      "processed 279 images\n",
      "processed 319 images\n",
      "processed 359 images\n",
      "processed 399 images\n",
      "processed 439 images\n",
      "processed 479 images\n",
      "processed 519 images\n",
      "processed 559 images\n",
      "processed 599 images\n",
      "processed 639 images\n",
      "processed 679 images\n",
      "processed 719 images\n",
      "processed 759 images\n",
      "processed 799 images\n",
      "processed 839 images\n",
      "processed 879 images\n",
      "processed 919 images\n",
      "processed 959 images\n"
     ]
    }
   ],
   "source": [
    "for i, trial in enumerate(ids):\n",
    "    if i%40 == 39:\n",
    "        print(f'processed {i} images')\n",
    "    try:\n",
    "        os.mkdir(f'vis-data-simple/{trial}')\n",
    "        process_image(trial)\n",
    "        process_hits(trial)\n",
    "    except:\n",
    "        pass"
   ]
  },
  {
   "cell_type": "code",
   "execution_count": null,
   "metadata": {},
   "outputs": [],
   "source": [
    "vid = cv2.VideoCapture(f'vis-data/{fname}_denoised_thumb.mp4')"
   ]
  }
 ],
 "metadata": {
  "kernelspec": {
   "display_name": "Python 3",
   "language": "python",
   "name": "python3"
  },
  "language_info": {
   "codemirror_mode": {
    "name": "ipython",
    "version": 3
   },
   "file_extension": ".py",
   "mimetype": "text/x-python",
   "name": "python",
   "nbconvert_exporter": "python",
   "pygments_lexer": "ipython3",
   "version": "3.8.5"
  }
 },
 "nbformat": 4,
 "nbformat_minor": 4
}
