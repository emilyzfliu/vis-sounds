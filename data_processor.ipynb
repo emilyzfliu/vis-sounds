{
 "cells": [
  {
   "cell_type": "code",
   "execution_count": 1,
   "metadata": {},
   "outputs": [],
   "source": [
    "import os\n",
    "import numpy as np\n",
    "import re\n",
    "import cv2\n",
    "from scipy.io import wavfile\n",
    "import matplotlib.pyplot as plt\n",
    "from scipy import signal\n",
    "import librosa.display"
   ]
  },
  {
   "cell_type": "code",
   "execution_count": 2,
   "metadata": {
    "scrolled": true
   },
   "outputs": [
    {
     "name": "stdout",
     "output_type": "stream",
     "text": [
      "977\n"
     ]
    }
   ],
   "source": [
    "# read all files\n",
    "fnames = os.listdir('vis-data')\n",
    "suffixes = ['_times.txt', '_denoised_thumb.mp4', '_mic.mp4', '_mic.wav', '_denoised.mp4', '_denoised.wav']\n",
    "ids = set()\n",
    "for name in fnames:\n",
    "    for suffix in suffixes:\n",
    "        idx = name.find(suffix)\n",
    "        if idx == -1:\n",
    "            continue\n",
    "        prefix = name[:idx]\n",
    "        ids.add(prefix)\n",
    "print(len(ids))\n",
    "ids = list(ids)"
   ]
  },
  {
   "cell_type": "code",
   "execution_count": 3,
   "metadata": {},
   "outputs": [],
   "source": [
    "def parse_classes(name, idx):\n",
    "    elems = set()\n",
    "    with open(f'vis-data/{name}', 'r') as f:\n",
    "        lines = f.readlines()\n",
    "    for line in lines:\n",
    "        words = re.split(' |\\n', line)\n",
    "        if len(words) < idx+1:\n",
    "            continue\n",
    "        if words[idx] == 'None':\n",
    "            continue\n",
    "        elems.add(words[idx])\n",
    "    return list(elems)"
   ]
  },
  {
   "cell_type": "code",
   "execution_count": 4,
   "metadata": {},
   "outputs": [
    {
     "name": "stdout",
     "output_type": "stream",
     "text": [
      "materials:\n",
      "{'plastic': 0, 'drywall': 1, 'rock': 2, 'metal': 3, 'leaf': 4, 'grass': 5, 'paper': 6, 'water': 7, 'gravel': 8, 'glass': 9, 'tile': 10, 'ceramic': 11, 'plastic-bag': 12, 'dirt': 13, 'cloth': 14, 'wood': 15, 'carpet': 16}\n"
     ]
    }
   ],
   "source": [
    "all_materials = set()\n",
    "for name in fnames:\n",
    "    if name.find('.txt') == -1 or 'train.txt' in name or 'test.txt' in name:\n",
    "        continue\n",
    "    elems = parse_classes(name, 1)\n",
    "    all_materials.update(elems)\n",
    "\n",
    "all_materials = list(all_materials)\n",
    "materials_log = {}\n",
    "for i, cat in enumerate(all_materials):\n",
    "    materials_log[cat] = i\n",
    "print('materials:')\n",
    "print(materials_log)\n",
    "\n",
    "\n",
    "\n",
    "# all_reactions = set()\n",
    "# for name in fnames:\n",
    "#     if name.find('.txt') == -1:\n",
    "#         continue\n",
    "#     elems = parse_classes(name, 3)\n",
    "#     all_reactions.update(elems)\n",
    "\n",
    "# all_reactions = list(all_reactions)\n",
    "# reactions_log = {}\n",
    "# for i, cat in enumerate(all_reactions):\n",
    "#     reactions_log[cat] = i\n",
    "# print('reactions:')\n",
    "# print(reactions_log)"
   ]
  },
  {
   "cell_type": "code",
   "execution_count": 5,
   "metadata": {},
   "outputs": [],
   "source": [
    "materials_log = {'plastic': 0, 'drywall': 1, 'rock': 2, 'metal': 3, 'leaf': 4, 'grass': 5, 'paper': 6, 'water': 7, 'gravel': 8, 'glass': 9, 'tile': 10, 'ceramic': 11, 'plastic-bag': 12, 'dirt': 13, 'cloth': 14, 'wood': 15, 'carpet': 16}"
   ]
  },
  {
   "cell_type": "code",
   "execution_count": 12,
   "metadata": {},
   "outputs": [],
   "source": [
    "def process_image(fname):\n",
    "    # given a mp4, take and return the first image from it\n",
    "    vidcap = cv2.VideoCapture(f'vis-data/{fname}_denoised_thumb.mp4')\n",
    "    _, image = vidcap.read()\n",
    "    cv2.imwrite(f'vis-data-simple-new/{fname}/{fname}_image.png', image)\n",
    "\n",
    "def process_hits(fname):\n",
    "    x , sr = librosa.load(f'vis-data/{fname}_denoised.wav')\n",
    "    with open(f'vis-data/{fname}_times.txt', 'r') as f:\n",
    "        lines = f.readlines()\n",
    "    i = 0\n",
    "    for line in lines:\n",
    "        words = re.split(' |\\n', line)\n",
    "        if 'None' in words:\n",
    "            continue\n",
    "        t = float(words[0])\n",
    "        material_id = materials_log[words[1]]\n",
    "        with open(f'vis-data-simple-new/{fname}/{fname}_labels_{i}.txt', 'w') as f:\n",
    "            f.write(str(material_id))\n",
    "        \n",
    "        dt = 0.5\n",
    "        subset = x[int(sr*(t - dt)):int(sr*(t+dt))]\n",
    "        X = librosa.stft(subset)\n",
    "        Xdb = librosa.amplitude_to_db(abs(X))\n",
    "        fig = plt.figure(figsize=(5, 5))\n",
    "        librosa.display.specshow(Xdb, sr=sr, cmap='gray')\n",
    "        fig.savefig(f'vis-data-simple-new/{fname}/{fname}_spec_{i}.png')\n",
    "        plt.close()\n",
    "        i += 1\n",
    "        if i == 10:\n",
    "            break\n",
    "    with open(f'vis-data-simple-new/{fname}/{fname}_metadata.txt', 'w') as f:\n",
    "        f.write(str(i))"
   ]
  },
  {
   "cell_type": "code",
   "execution_count": 14,
   "metadata": {},
   "outputs": [
    {
     "name": "stdout",
     "output_type": "stream",
     "text": [
      "processed 39 images\n",
      "processed 79 images\n",
      "processed 119 images\n",
      "processed 159 images\n",
      "processed 199 images\n",
      "processed 239 images\n",
      "processed 279 images\n",
      "processed 319 images\n",
      "processed 359 images\n",
      "processed 399 images\n",
      "processed 439 images\n",
      "processed 479 images\n",
      "processed 519 images\n",
      "processed 559 images\n",
      "processed 599 images\n",
      "processed 639 images\n",
      "processed 679 images\n",
      "processed 719 images\n",
      "processed 759 images\n",
      "processed 799 images\n",
      "processed 839 images\n",
      "processed 879 images\n",
      "processed 919 images\n",
      "processed 959 images\n"
     ]
    }
   ],
   "source": [
    "for i, trial in enumerate(ids):\n",
    "    if i%40 == 39:\n",
    "        print(f'processed {i} images')\n",
    "    try:\n",
    "        os.mkdir(f'vis-data-simple-new/{trial}')\n",
    "    except:\n",
    "        pass\n",
    "    process_image(trial)\n",
    "    process_hits(trial)"
   ]
  },
  {
   "cell_type": "code",
   "execution_count": null,
   "metadata": {},
   "outputs": [],
   "source": [
    "vid = cv2.VideoCapture(f'vis-data/{fname}_denoised_thumb.mp4')"
   ]
  }
 ],
 "metadata": {
  "kernelspec": {
   "display_name": "Python 3 (ipykernel)",
   "language": "python",
   "name": "python3"
  },
  "language_info": {
   "codemirror_mode": {
    "name": "ipython",
    "version": 3
   },
   "file_extension": ".py",
   "mimetype": "text/x-python",
   "name": "python",
   "nbconvert_exporter": "python",
   "pygments_lexer": "ipython3",
   "version": "3.9.7"
  }
 },
 "nbformat": 4,
 "nbformat_minor": 4
}
