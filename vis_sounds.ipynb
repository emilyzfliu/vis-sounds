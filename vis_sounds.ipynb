{
  "nbformat": 4,
  "nbformat_minor": 0,
  "metadata": {
    "colab": {
      "name": "vis_sounds.ipynb",
      "provenance": [],
      "collapsed_sections": [],
      "authorship_tag": "ABX9TyMMNTNePCE9/nZ3/rpbjG8f",
      "include_colab_link": true
    },
    "kernelspec": {
      "name": "python3",
      "display_name": "Python 3"
    },
    "language_info": {
      "name": "python"
    }
  },
  "cells": [
    {
      "cell_type": "markdown",
      "metadata": {
        "id": "view-in-github",
        "colab_type": "text"
      },
      "source": [
        "<a href=\"https://colab.research.google.com/github/emilyzfliu/vis-sounds/blob/main/vis_sounds.ipynb\" target=\"_parent\"><img src=\"https://colab.research.google.com/assets/colab-badge.svg\" alt=\"Open In Colab\"/></a>"
      ]
    },
    {
      "cell_type": "code",
      "execution_count": 1,
      "metadata": {
        "id": "mUAUAl9GUmTf"
      },
      "outputs": [],
      "source": [
        "import numpy as np\n",
        "import os\n",
        "import pickle\n",
        "from math import pi\n",
        "import torch\n",
        "import imageio\n",
        "from torch.autograd import Variable\n",
        "from torch.utils.data import Dataset"
      ]
    },
    {
      "cell_type": "code",
      "source": [
        "from google.colab import drive\n",
        "drive.mount('/content/drive')"
      ],
      "metadata": {
        "colab": {
          "base_uri": "https://localhost:8080/"
        },
        "id": "LGVIKB09Urcu",
        "outputId": "d08cfbed-a497-4b55-a58e-04c1f9c255ad"
      },
      "execution_count": 2,
      "outputs": [
        {
          "output_type": "stream",
          "name": "stdout",
          "text": [
            "Drive already mounted at /content/drive; to attempt to forcibly remount, call drive.mount(\"/content/drive\", force_remount=True).\n"
          ]
        }
      ]
    },
    {
      "cell_type": "code",
      "source": [
        "!unzip /content/drive/MyDrive/vis_sound_files/vis-data-simple.zip\n",
        "!cp /content/drive/MyDrive/vis_sound_files/train.txt .\n",
        "!cp /content/drive/MyDrive/vis_sound_files/test.txt ."
      ],
      "metadata": {
        "colab": {
          "base_uri": "https://localhost:8080/"
        },
        "id": "BV3UQ9eMkLCL",
        "outputId": "68a3f0f3-934b-4093-b047-ffcda79102f2"
      },
      "execution_count": 4,
      "outputs": [
        {
          "output_type": "stream",
          "name": "stdout",
          "text": [
            "Archive:  /content/drive/MyDrive/vis_sound_files/vis-data-simple.zip\n",
            "replace vis-data-simple/.DS_Store? [y]es, [n]o, [A]ll, [N]one, [r]ename: N\n"
          ]
        }
      ]
    },
    {
      "cell_type": "markdown",
      "source": [
        "## Project Overview:\n",
        "\n",
        "1. Visual sound classification\n",
        "  * We will start with the ImageNet neural net architecture for training our model to predict labels from images\n",
        "  * then labels from sounds (spectrogram images)\n",
        "  * then finally combining sound and image data together.\n",
        "2. Sound from images\n",
        "  * First, use pretrained imagenet segmentation weights to identify components of image\n",
        "  * Then, find association with sound annotation and find sounds closest to this (nearest neighbors?)"
      ],
      "metadata": {
        "id": "AtA0cG7BVLY2"
      }
    },
    {
      "cell_type": "markdown",
      "source": [
        "## Dataset\n",
        "We use the Greatest Hits dataset at https://andrewowens.com/vis/."
      ],
      "metadata": {
        "id": "2lGTQDTOZh02"
      }
    },
    {
      "cell_type": "code",
      "source": [
        "class VisSoundsDataset(Dataset):\n",
        "  def __init__(self, split = 'train', mode='sound'):\n",
        "    super(Dataset, self).__init__()\n",
        "    assert split in ['train', 'test']\n",
        "    self.split = split\n",
        "    assert mode in ['sound', 'image', 'augment_sound', 'augment_image']\n",
        "    self.mode = mode\n",
        "\n",
        "    data, labels = self.load_data()\n",
        "\n",
        "    self.data = {\n",
        "        'inputs': data,\n",
        "        'targets': labels\n",
        "    }\n",
        "\n",
        "    def load_vid_ids(self):\n",
        "      with open(f'{self.split}.txt', 'r') as f:\n",
        "        files = f.readlines()\n",
        "      if self.mode == 'image':\n",
        "        images = []\n",
        "        labels = []\n",
        "        for file in files:\n",
        "          image = imageio.imread(f'vis-data-simple/{file}/{file}_image.png')\n",
        "          img = np.moveaxis(img, 2, 0)\n",
        "          img = np.array(img)\n",
        "          images.append(img)\n",
        "          labels.append(self.gen_labels(file))\n",
        "        return images, labels\n",
        "      elif self.mode == 'sound':\n",
        "        images = []\n",
        "        labels = []\n",
        "        for file in files:\n",
        "          with open(f'vis-data-simple/{file}/{file}_metadata.txt', 'r') as f:\n",
        "            n_sounds = int(f.readline())\n",
        "          for i in range(n_sounds):\n",
        "            image = imageio.imread(f'vis-data-simple/{file}/{file}_spec_{i}.png')\n",
        "            img = np.moveaxis(img, 2, 0)\n",
        "            img = np.array(img)\n",
        "            images.append(img)\n",
        "            labels.append(self.gen_labels(file, i))\n",
        "        return images, labels\n",
        "      return None\n",
        "    \n",
        "    def gen_labels(file, idx=None):\n",
        "      # TODO: FIGURE OUT MULTILABEL OUTPUTS\n",
        "      ret = np.zeroes((2*17*5, 1))\n",
        "      if idx is None:\n",
        "        with open(f'vis-data-simple/{file}/{file}_metadata.txt', 'r') as f:\n",
        "          n_sounds = int(f.readline())\n",
        "\n",
        "    def __getitem__(self, item):\n",
        "      return self.data['inputs'][item], self.data['targets'][item]\n",
        "        \n",
        "    def __len__(self):\n",
        "        return self.n"
      ],
      "metadata": {
        "id": "4awkTjogAozL",
        "outputId": "d4d7aee3-626b-4736-bf23-21c5d9350f7c",
        "colab": {
          "base_uri": "https://localhost:8080/"
        }
      },
      "execution_count": null,
      "outputs": [
        {
          "output_type": "stream",
          "name": "stdout",
          "text": [
            "fatal: not a git repository (or any of the parent directories): .git\n"
          ]
        }
      ]
    },
    {
      "cell_type": "code",
      "source": [
        "# TODO: imagenet (resnet, vgg, etc) for pure sound/pure image classification"
      ],
      "metadata": {
        "id": "mlRsSK9gUvN4"
      },
      "execution_count": null,
      "outputs": []
    },
    {
      "cell_type": "code",
      "source": [
        ""
      ],
      "metadata": {
        "id": "72upn3XWU0wb"
      },
      "execution_count": null,
      "outputs": []
    }
  ]
}