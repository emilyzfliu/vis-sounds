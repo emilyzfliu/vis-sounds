{
  "nbformat": 4,
  "nbformat_minor": 0,
  "metadata": {
    "colab": {
      "name": "vis_sounds.ipynb",
      "provenance": [],
      "toc_visible": true,
      "authorship_tag": "ABX9TyPkG5Nd1mNvDo8e5lXPi19S",
      "include_colab_link": true
    },
    "kernelspec": {
      "name": "python3",
      "display_name": "Python 3"
    },
    "language_info": {
      "name": "python"
    }
  },
  "cells": [
    {
      "cell_type": "markdown",
      "metadata": {
        "id": "view-in-github",
        "colab_type": "text"
      },
      "source": [
        "<a href=\"https://colab.research.google.com/github/emilyzfliu/vis-sounds/blob/main/vis_sounds.ipynb\" target=\"_parent\"><img src=\"https://colab.research.google.com/assets/colab-badge.svg\" alt=\"Open In Colab\"/></a>"
      ]
    },
    {
      "cell_type": "code",
      "execution_count": null,
      "metadata": {
        "id": "mUAUAl9GUmTf"
      },
      "outputs": [],
      "source": [
        "# imports"
      ]
    },
    {
      "cell_type": "code",
      "source": [
        "from google.colab import drive\n",
        "drive.mount('/content/drive')"
      ],
      "metadata": {
        "colab": {
          "base_uri": "https://localhost:8080/"
        },
        "id": "LGVIKB09Urcu",
        "outputId": "f0f58b0d-cd63-4c90-de27-ee7ce46a0ff7"
      },
      "execution_count": null,
      "outputs": [
        {
          "output_type": "stream",
          "name": "stdout",
          "text": [
            "Mounted at /content/drive\n"
          ]
        }
      ]
    },
    {
      "cell_type": "markdown",
      "source": [
        "## Project Overview:\n",
        "\n",
        "1. Sounds from Images, Images from Sounds\n",
        "  * We will start with the ImageNet neural net architecture for training our model to predict sounds from images as in (https://arxiv.org/pdf/1512.08512.pdf).\n",
        "  * Then, to predict images from sounds, we will reverse this architecture.\n",
        "  * We will likely use open-source pretrained weights and replace the classification layers with sound identification layers (TODO: Find ImageNet pretrained weights).\n",
        "  * We additionally hope to attempt an image-sound-image/sound-image-sound reconstruction by consecutively passing through the two models.\n",
        "2. Generated image/sound as input in downstream tasks: can we augment visual datasets by generating new images from sounds?\n",
        "  * raw images + network-generated images (from sounds) on ImageNet tasks\n",
        "  * TODO: raw sounds + network-generated sounds from images (eliminate if there are no good datasets to work with here)\n",
        "  * network-generated sounds + raw images in sound-supervised statistical summary task (https://arxiv.org/pdf/1608.07017.pdf)"
      ],
      "metadata": {
        "id": "AtA0cG7BVLY2"
      }
    },
    {
      "cell_type": "markdown",
      "source": [
        "## Datasets\n",
        "We use the following datasets:\n",
        "1. Owens: https://andrewowens.com/vis/hits.html\n",
        "2. VoxCeleb 1, 2: https://www.robots.ox.ac.uk/~vgg/data/voxceleb/\n",
        "3. VGG Sound: https://www.robots.ox.ac.uk/~vgg/data/vggsound/"
      ],
      "metadata": {
        "id": "2lGTQDTOZh02"
      }
    },
    {
      "cell_type": "code",
      "source": [
        ""
      ],
      "metadata": {
        "id": "mlRsSK9gUvN4"
      },
      "execution_count": 6,
      "outputs": []
    },
    {
      "cell_type": "code",
      "source": [
        ""
      ],
      "metadata": {
        "id": "72upn3XWU0wb"
      },
      "execution_count": null,
      "outputs": []
    }
  ]
}